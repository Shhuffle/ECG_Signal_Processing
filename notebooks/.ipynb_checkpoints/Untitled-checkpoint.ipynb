{
 "cells": [
  {
   "cell_type": "code",
   "execution_count": null,
   "id": "e1fa350f-aa54-4d31-824e-1574ae065630",
   "metadata": {},
   "outputs": [],
   "source": []
  }
 ],
 "metadata": {
  "kernelspec": {
   "display_name": "",
   "name": ""
  },
  "language_info": {
   "name": ""
  }
 },
 "nbformat": 4,
 "nbformat_minor": 5
}
