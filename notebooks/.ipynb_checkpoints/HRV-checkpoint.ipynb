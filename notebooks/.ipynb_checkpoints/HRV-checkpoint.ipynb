{
 "cells": [
  {
   "cell_type": "markdown",
   "id": "0717e726-f263-45cc-8e23-15a82243b2c7",
   "metadata": {},
   "source": [
    "## Implementing HRV\n",
    "In this notebook we will calculate \n",
    "- Mean RR(average beat-to-beat interval)\n",
    "- SDNN (standard deviation of RR intervals -> overall HRV measure)\n",
    "- RMSSD (root mean square of sucessive differences -> vagal tone measure)\n",
    "\n",
    "The necessary functions are located at the src/HRV.py\n",
    "The RR in time and bins value will be taken using the RpeakUsingDerivative.ipynb file\n",
    "\n",
    "NOTE: To change the input sample size, sample channel, filter frequency change the parameters values in RpeakUsingDerivative.ipynb and run whole program."
   ]
  },
  {
   "cell_type": "markdown",
   "id": "3f27d484-506e-4d55-a562-451aab2f5e55",
   "metadata": {},
   "source": [
    "### Import Section\n"
   ]
  },
  {
   "cell_type": "code",
   "execution_count": 2,
   "id": "0b3da00a-19da-4009-92ca-ce21888cdeaf",
   "metadata": {},
   "outputs": [
    {
     "name": "stdout",
     "output_type": "stream",
     "text": [
      "Loaded R-peak data successfully!\n"
     ]
    }
   ],
   "source": [
    "import sys\n",
    "import os\n",
    "# go up one directory from notebooks/ → project root\n",
    "project_root = os.path.abspath(os.path.join(os.getcwd(), \"..\"))\n",
    "if project_root not in sys.path:\n",
    "    sys.path.insert(0, project_root)\n",
    "import numpy as np\n",
    "from src import HRV\n",
    "import matplotlib.pyplot as plt\n",
    "import numpy as np\n",
    "\n",
    "data = np.load(\"../data/processed/r_peaks.npz\")\n",
    "r_interval = data[\"rr_intervals\"]\n",
    "RP_time = data[\"r_peaks_time\"]\n",
    "RP_index = data[\"r_peaks_index\"]\n",
    "print(\"Loaded R-peak data successfully!\")\n"
   ]
  },
  {
   "cell_type": "code",
   "execution_count": null,
   "id": "9bc1048e-d9d2-4a94-a49a-662d3147608f",
   "metadata": {},
   "outputs": [],
   "source": []
  },
  {
   "cell_type": "code",
   "execution_count": null,
   "id": "604f429b-957c-4da3-a024-b8c0220f398a",
   "metadata": {},
   "outputs": [],
   "source": []
  }
 ],
 "metadata": {
  "kernelspec": {
   "display_name": "Python (.venv)",
   "language": "python",
   "name": ".venv"
  },
  "language_info": {
   "codemirror_mode": {
    "name": "ipython",
    "version": 3
   },
   "file_extension": ".py",
   "mimetype": "text/x-python",
   "name": "python",
   "nbconvert_exporter": "python",
   "pygments_lexer": "ipython3",
   "version": "3.13.5"
  }
 },
 "nbformat": 4,
 "nbformat_minor": 5
}
