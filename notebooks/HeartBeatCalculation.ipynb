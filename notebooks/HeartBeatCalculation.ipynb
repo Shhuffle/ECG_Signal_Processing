{
 "cells": [
  {
   "cell_type": "markdown",
   "id": "eafc1865-4469-4982-9771-508cf38239f3",
   "metadata": {},
   "source": [
    "## Import from src\n"
   ]
  },
  {
   "cell_type": "code",
   "execution_count": 2,
   "id": "6bf7a33f-ebe6-40b5-9087-68ea4953977f",
   "metadata": {},
   "outputs": [],
   "source": [
    "import sys\n",
    "import os\n",
    "# go up one directory from notebooks/ → project root\n",
    "project_root = os.path.abspath(os.path.join(os.getcwd(), \"..\"))\n",
    "if project_root not in sys.path:\n",
    "    sys.path.insert(0, project_root)\n",
    "from src import HeartBeatCalculation, PreProcessing\n",
    "import numpy as np"
   ]
  },
  {
   "cell_type": "markdown",
   "id": "43de7f6c-5776-4718-b0f1-ca1d83faaff0",
   "metadata": {},
   "source": [
    "## Heartbeat Calculation \n",
    "It is calculated based on the peak in the r_wave\n",
    "The wfdb provides feature to extract the r_wave event or peak values using annotation.sample\n",
    "Using this we compute the time at which peak values are seen \n",
    "After that we compute the r wave interval which is the time difference between two peak wave\n",
    "After taking the mean of those values,\n",
    "HeartBeat HR = 60/(RR_interval)."
   ]
  },
  {
   "cell_type": "code",
   "execution_count": 7,
   "id": "5ed345bb-a8e8-4ad4-8ced-993e4e90bfd5",
   "metadata": {},
   "outputs": [
    {
     "name": "stdout",
     "output_type": "stream",
     "text": [
      "Average Heartbeat Calculated:  74.42480826942314\n"
     ]
    }
   ],
   "source": [
    "record_path = os.path.join(os.getcwd(), \"..\", \"data\", \"100\")\n",
    "starting_sample = 5\n",
    "ending_sample = 90000\n",
    "channel_size =1\n",
    "\n",
    "# take inputs\n",
    "record,annotation =PreProcessing.record_annotation(record_path,starting_sample,ending_sample,channel_size)\n",
    "fs = record.fs\n",
    "r_peak = np.array(annotation.sample.tolist())\n",
    "r_peak_time = r_peak[:] / fs\n",
    "HR = HeartBeatCalculation.heartbeat(r_peak_time)\n",
    "print(\"Average Heartbeat Calculated: \",HR)"
   ]
  },
  {
   "cell_type": "code",
   "execution_count": null,
   "id": "747dc6ee-d654-4105-81f2-35f04dbd8098",
   "metadata": {},
   "outputs": [],
   "source": []
  }
 ],
 "metadata": {
  "kernelspec": {
   "display_name": "Python (.venv)",
   "language": "python",
   "name": ".venv"
  },
  "language_info": {
   "codemirror_mode": {
    "name": "ipython",
    "version": 3
   },
   "file_extension": ".py",
   "mimetype": "text/x-python",
   "name": "python",
   "nbconvert_exporter": "python",
   "pygments_lexer": "ipython3",
   "version": "3.13.5"
  }
 },
 "nbformat": 4,
 "nbformat_minor": 5
}
