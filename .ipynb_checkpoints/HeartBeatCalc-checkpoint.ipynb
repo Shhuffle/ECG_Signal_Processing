{
 "cells": [
  {
   "cell_type": "code",
   "execution_count": null,
   "id": "cbe0d4df-f71b-4be3-bd28-b9c49ff2b38f",
   "metadata": {},
   "outputs": [],
   "source": [
    "import Pre"
   ]
  }
 ],
 "metadata": {
  "kernelspec": {
   "display_name": "Python (.venv)",
   "language": "python",
   "name": ".venv"
  },
  "language_info": {
   "codemirror_mode": {
    "name": "ipython",
    "version": 3
   },
   "file_extension": ".py",
   "mimetype": "text/x-python",
   "name": "python",
   "nbconvert_exporter": "python",
   "pygments_lexer": "ipython3",
   "version": "3.13.5"
  }
 },
 "nbformat": 4,
 "nbformat_minor": 5
}
